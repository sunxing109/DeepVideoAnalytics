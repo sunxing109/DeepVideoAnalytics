{
 "cells": [
  {
   "cell_type": "code",
   "execution_count": 1,
   "metadata": {},
   "outputs": [
    {
     "name": "stdout",
     "output_type": "stream",
     "text": [
      "Already up-to-date.\r\n"
     ]
    }
   ],
   "source": [
    "!git pull"
   ]
  },
  {
   "cell_type": "code",
   "execution_count": 2,
   "metadata": {},
   "outputs": [
    {
     "name": "stderr",
     "output_type": "stream",
     "text": [
      "Failed to load GPU Faiss: No module named swigfaiss_gpu\n",
      "Faiss falling back to CPU-only.\n"
     ]
    }
   ],
   "source": [
    "import sys, os\n",
    "sys.path.append('/root/DVA/server/')\n",
    "import dvalib\n",
    "import faiss\n",
    "import numpy as np\n",
    "from dvalib import approximator\n",
    "from dvalib import retriever\n",
    "import django\n",
    "os.environ.setdefault(\"DJANGO_SETTINGS_MODULE\", \"dva.settings\")\n",
    "django.setup()\n",
    "from dvaapp import models"
   ]
  },
  {
   "cell_type": "code",
   "execution_count": 11,
   "metadata": {},
   "outputs": [
    {
     "name": "stdout",
     "output_type": "stream",
     "text": [
      "(9, 1, 128)\n"
     ]
    }
   ],
   "source": [
    "di = models.IndexEntries.objects.latest('created')\n",
    "mat, entries = di.load_index()\n",
    "print mat.shape"
   ]
  },
  {
   "cell_type": "code",
   "execution_count": 12,
   "metadata": {},
   "outputs": [],
   "source": [
    "a = approximator.FAISSApproximator(\"a\",\"a\",\"PCA64;Flat\",128,trainable=False)\n",
    "r = retriever.FaissRetriever(name=\"faiss_1\",approximator=a)"
   ]
  },
  {
   "cell_type": "code",
   "execution_count": 19,
   "metadata": {},
   "outputs": [
    {
     "name": "stdout",
     "output_type": "stream",
     "text": [
      "[0 1 2]\n",
      "[1 0 2]\n",
      "[2 1 0]\n",
      "[3 2 1]\n",
      "[4 7 2]\n",
      "[5 4 6]\n",
      "[6 8 2]\n",
      "[7 4 8]\n",
      "[8 6 7]\n"
     ]
    }
   ],
   "source": [
    "for k in range(mat.shape[0]):\n",
    "    distances, ids = r.fass_index.search(np.atleast_2d(mat[k,:,:]),3)\n",
    "    print ids[0]"
   ]
  }
 ],
 "metadata": {
  "kernelspec": {
   "display_name": "Python 2",
   "language": "python",
   "name": "python2"
  },
  "language_info": {
   "codemirror_mode": {
    "name": "ipython",
    "version": 2
   },
   "file_extension": ".py",
   "mimetype": "text/x-python",
   "name": "python",
   "nbconvert_exporter": "python",
   "pygments_lexer": "ipython2",
   "version": "2.7.12"
  }
 },
 "nbformat": 4,
 "nbformat_minor": 2
}
